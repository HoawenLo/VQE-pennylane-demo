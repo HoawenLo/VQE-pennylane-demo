{
 "cells": [
  {
   "cell_type": "markdown",
   "id": "d70b7cc2",
   "metadata": {},
   "source": [
    "We will explore givens rotations, the building blocks of particle conserving quantum circuits. "
   ]
  },
  {
   "cell_type": "code",
   "execution_count": 1,
   "id": "fa0d12a2",
   "metadata": {},
   "outputs": [],
   "source": [
    "import pennylane as qml\n",
    "from pennylane import numpy as np"
   ]
  },
  {
   "cell_type": "markdown",
   "id": "9e8a0a23",
   "metadata": {},
   "source": [
    "# Single excitations"
   ]
  },
  {
   "cell_type": "code",
   "execution_count": 6,
   "id": "9c4ad5b1",
   "metadata": {},
   "outputs": [
    {
     "name": "stdout",
     "output_type": "stream",
     "text": [
      "[0.        +0.j 0.57735027+0.j 0.57735027+0.j 0.        +0.j\n",
      " 0.57735027+0.j 0.        +0.j 0.        +0.j 0.        +0.j]\n"
     ]
    }
   ],
   "source": [
    "# Setup device\n",
    "\n",
    "dev = qml.device(\"default.qubit\", wires=3)\n",
    "\n",
    "# Turn the function which represents the quantum circuit into a QNode object.\n",
    "# This connects the function to the device and assigns the automatic differentiaion\n",
    "# Interface.\n",
    "@qml.qnode(dev, interface=\"autograd\")\n",
    "def circuit(x, y):\n",
    "    \"\"\"Setups a quantum circuit.\n",
    "    \n",
    "    Args:\n",
    "        x: Rotation parameter one.\n",
    "        y: Rotation parameter two.\n",
    "        \n",
    "    Returns:\n",
    "        () The quantum circuit.\n",
    "    \"\"\"\n",
    "    # Prepare the reference state.\n",
    "    qml.BasisState(np.array([1, 0, 0]), wires=[0, 1, 2])\n",
    "    \n",
    "    # Apply single excitations to the first qubit.\n",
    "    qml.SingleExcitation(x, wires=[0, 1])\n",
    "    qml.SingleExcitation(y, wires=[0, 2])\n",
    "    return qml.state()\n",
    "\n",
    "x = -2 * np.arcsin(np.sqrt(1/3))\n",
    "y = -2 * np.arcsin(np.sqrt(1/2))\n",
    "\n",
    "print(circuit(x, y))"
   ]
  },
  {
   "cell_type": "code",
   "execution_count": 7,
   "id": "f8b18399",
   "metadata": {},
   "outputs": [
    {
     "name": "stdout",
     "output_type": "stream",
     "text": [
      "Amplitude of state |001> =  (0.5773502691896258+0j)\n",
      "Amplitude of state |010> =  (0.5773502691896257+0j)\n",
      "Amplitude of state |100> =  (0.5773502691896257+0j)\n"
     ]
    }
   ],
   "source": [
    "# Output corresponds to the relevant basis state.\n",
    "\n",
    "tensor_state = circuit(x, y).reshape(2, 2, 2)\n",
    "print(\"Amplitude of state |001> = \", tensor_state[0, 0, 1])\n",
    "print(\"Amplitude of state |010> = \", tensor_state[0, 1, 0])\n",
    "print(\"Amplitude of state |100> = \", tensor_state[1, 0, 0])"
   ]
  },
  {
   "cell_type": "markdown",
   "id": "3988f889",
   "metadata": {},
   "source": [
    "# Double excitations"
   ]
  },
  {
   "cell_type": "code",
   "execution_count": 11,
   "id": "0b7b46f9",
   "metadata": {},
   "outputs": [
    {
     "name": "stdout",
     "output_type": "stream",
     "text": [
      "Single excitations = [[0, 4], [1, 3], [1, 5], [2, 4]]\n",
      "Double excitations = [[0, 1, 3, 4], [0, 1, 4, 5], [1, 2, 3, 4], [1, 2, 4, 5]]\n"
     ]
    }
   ],
   "source": [
    "dev2 = qml.device(\"default.qubit\", wires=6)\n",
    "\n",
    "# Obtain all excitations of a 6 qubit system with 3 particles.\n",
    "n_particles = 3\n",
    "n_qubits = 6\n",
    "\n",
    "singles, doubles = qml.qchem.excitations(3, 6)\n",
    "print(f\"Single excitations = {singles}\")\n",
    "print(f\"Double excitations = {doubles}\")\n",
    "\n",
    "@qml.qnode(dev2, interface=\"autograd\")\n",
    "def circuit2(x, y):\n",
    "    # Prepare reference state\n",
    "    qml.BasisState(np.array([1, 1, 1, 0, 0, 0]), wires=np.arange(0,6))\n",
    "    \n",
    "    # Apply all single excitations.\n",
    "    for i, s in enumerate(singles):\n",
    "        qml.SingleExcitation(x[i], wires=s)\n",
    "        \n",
    "    # Apply all double excitations.\n",
    "    for j, d in enumerate(doubles):\n",
    "        qml.DoubleExcitation(y[j], wires=d)\n",
    "    return qml.state()\n",
    "\n",
    "x = np.random.normal(0, 1, len(singles))\n",
    "y = np.random.normal(0, 1, len(doubles))\n",
    "\n",
    "output = circuit2(x, y)"
   ]
  },
  {
   "cell_type": "code",
   "execution_count": 13,
   "id": "14936b4a",
   "metadata": {},
   "outputs": [
    {
     "data": {
      "text/plain": [
       "tensor([ 0.        +0.j,  0.        +0.j,  0.        +0.j,\n",
       "         0.        +0.j,  0.        +0.j,  0.        +0.j,\n",
       "         0.        +0.j,  0.        +0.j,  0.        +0.j,\n",
       "         0.        +0.j,  0.        +0.j, -0.04281209+0.j,\n",
       "         0.        +0.j,  0.        +0.j,  0.018447  +0.j,\n",
       "         0.        +0.j,  0.        +0.j,  0.        +0.j,\n",
       "         0.        +0.j,  0.        +0.j,  0.        +0.j,\n",
       "         0.        +0.j,  0.        +0.j,  0.        +0.j,\n",
       "         0.        +0.j,  0.        +0.j, -0.06630072+0.j,\n",
       "         0.        +0.j,  0.        +0.j,  0.        +0.j,\n",
       "         0.        +0.j,  0.        +0.j,  0.        +0.j,\n",
       "         0.        +0.j,  0.        +0.j,  0.00784126+0.j,\n",
       "         0.        +0.j,  0.        +0.j, -0.03720972+0.j,\n",
       "         0.        +0.j,  0.        +0.j, -0.07537887+0.j,\n",
       "         0.        +0.j,  0.        +0.j,  0.91652293+0.j,\n",
       "         0.        +0.j,  0.        +0.j,  0.        +0.j,\n",
       "         0.        +0.j,  0.        +0.j, -0.04374893+0.j,\n",
       "         0.        +0.j,  0.        +0.j,  0.        +0.j,\n",
       "         0.        +0.j,  0.        +0.j,  0.3799668 +0.j,\n",
       "         0.        +0.j,  0.        +0.j,  0.        +0.j,\n",
       "         0.        +0.j,  0.        +0.j,  0.        +0.j,\n",
       "         0.        +0.j], requires_grad=True)"
      ]
     },
     "execution_count": 13,
     "metadata": {},
     "output_type": "execute_result"
    }
   ],
   "source": [
    "output"
   ]
  },
  {
   "cell_type": "code",
   "execution_count": 14,
   "id": "4b9d6850",
   "metadata": {},
   "outputs": [
    {
     "name": "stdout",
     "output_type": "stream",
     "text": [
      "['001011', '001110', '011010', '100011', '100110', '101001', '101100', '110010', '111000']\n"
     ]
    }
   ],
   "source": [
    "# Constructs binary representation of states with non-zero amplitude\n",
    "states = [np.binary_repr(i, width=6) for i in range(len(output)) if output[i] != 0]\n",
    "print(states)"
   ]
  },
  {
   "cell_type": "markdown",
   "id": "12fd6ba9",
   "metadata": {},
   "source": [
    "# Controlled Excitation Gates"
   ]
  },
  {
   "cell_type": "code",
   "execution_count": 17,
   "id": "21184e67",
   "metadata": {},
   "outputs": [
    {
     "name": "stdout",
     "output_type": "stream",
     "text": [
      "['000011', '001100', '011000', '100100', '110000']\n"
     ]
    }
   ],
   "source": [
    "dev = qml.device('default.qubit', wires=6)\n",
    "\n",
    "@qml.qnode(dev, interface=\"autograd\")\n",
    "def circuit3(x, y, z):\n",
    "    qml.BasisState(np.array([1, 1, 0, 0, 0, 0]), wires=[i for i in range(6)])\n",
    "    qml.DoubleExcitation(x, wires=[0, 1, 2, 3])\n",
    "    qml.DoubleExcitation(y, wires=[0, 1, 4, 5])\n",
    "    qml.SingleExcitation(z, wires=[1, 3])\n",
    "    return qml.state()\n",
    "\n",
    "x = -2 * np.arcsin(np.sqrt(1/4))\n",
    "y = -2 * np.arcsin(np.sqrt(1/3))\n",
    "z = -2 * np.arcsin(np.sqrt(1/2))\n",
    "\n",
    "output = circuit3(x, y, z)\n",
    "states = [np.binary_repr(i, width=6) for i in range(len(output)) if output[i] != 0]\n",
    "# Coupling on gates prepares incorrect target state. Using controlled excitation gate can solve this.\n",
    "print(states)"
   ]
  },
  {
   "cell_type": "code",
   "execution_count": 18,
   "id": "eecf3c42",
   "metadata": {},
   "outputs": [
    {
     "name": "stdout",
     "output_type": "stream",
     "text": [
      "['000011', '001100', '100100', '110000']\n"
     ]
    }
   ],
   "source": [
    "@qml.qnode(dev, interface=\"autograd\")\n",
    "def circuit4(x, y, z):\n",
    "    qml.BasisState(np.array([1, 1, 0, 0, 0, 0]), wires=[i for i in range(6)])\n",
    "    qml.DoubleExcitation(x, wires=[0, 1, 2, 3])\n",
    "    qml.DoubleExcitation(y, wires=[0, 1, 4, 5])\n",
    "    # single excitation controlled on qubit 0\n",
    "    qml.ctrl(qml.SingleExcitation, control=0)(z, wires=[1, 3])\n",
    "    return qml.state()\n",
    "\n",
    "output = circuit4(x, y, z)\n",
    "states = [np.binary_repr(i, width=6) for i in range(len(output)) if output[i] != 0]\n",
    "print(states)"
   ]
  },
  {
   "cell_type": "markdown",
   "id": "0e31de56",
   "metadata": {},
   "source": [
    "# Bringing it all together"
   ]
  },
  {
   "cell_type": "code",
   "execution_count": 19,
   "id": "9c9dc9d6",
   "metadata": {},
   "outputs": [
    {
     "name": "stdout",
     "output_type": "stream",
     "text": [
      "Basis states =  ['0011', '0101', '0110', '1001', '1010', '1100']\n",
      "Output state = [0.        +0.j 0.        +0.j 0.        +0.j 0.40824829+0.j\n",
      " 0.        +0.j 0.40824829+0.j 0.40824829+0.j 0.        +0.j\n",
      " 0.        +0.j 0.40824829+0.j 0.40824829+0.j 0.        +0.j\n",
      " 0.40824829+0.j 0.        +0.j 0.        +0.j 0.        +0.j]\n"
     ]
    }
   ],
   "source": [
    "dev = qml.device('default.qubit', wires=4)\n",
    "\n",
    "@qml.qnode(dev, interface=\"autograd\")\n",
    "def state_preparation(params):\n",
    "    qml.BasisState(np.array([1, 1, 0, 0]), wires=[0, 1, 2, 3])\n",
    "    qml.SingleExcitation(params[0], wires=[1, 2])\n",
    "    qml.SingleExcitation(params[1], wires=[1, 3])\n",
    "    # single excitations controlled on qubit 1\n",
    "    qml.ctrl(qml.SingleExcitation, control=1)(params[2], wires=[0, 2])\n",
    "    qml.ctrl(qml.SingleExcitation, control=1)(params[3], wires=[0, 3])\n",
    "    qml.DoubleExcitation(params[4], wires=[0, 1, 2, 3])\n",
    "    return qml.state()\n",
    "\n",
    "n = 6\n",
    "params = np.array([-2 * np.arcsin(1/np.sqrt(n-i)) for i in range(n-1)])\n",
    "\n",
    "output = state_preparation(params)\n",
    "# sets very small coefficients to zero\n",
    "output[np.abs(output) < 1e-10] = 0\n",
    "states = [np.binary_repr(i, width=4) for i in range(len(output)) if output[i] != 0]\n",
    "print(\"Basis states = \", states)\n",
    "print(\"Output state =\", output)"
   ]
  },
  {
   "cell_type": "code",
   "execution_count": null,
   "id": "1e7f48ed",
   "metadata": {},
   "outputs": [],
   "source": []
  }
 ],
 "metadata": {
  "kernelspec": {
   "display_name": "Python 3 (ipykernel)",
   "language": "python",
   "name": "python3"
  },
  "language_info": {
   "codemirror_mode": {
    "name": "ipython",
    "version": 3
   },
   "file_extension": ".py",
   "mimetype": "text/x-python",
   "name": "python",
   "nbconvert_exporter": "python",
   "pygments_lexer": "ipython3",
   "version": "3.10.7"
  }
 },
 "nbformat": 4,
 "nbformat_minor": 5
}
